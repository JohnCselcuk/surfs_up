{
 "cells": [
  {
   "cell_type": "code",
   "execution_count": 28,
   "id": "0e165048",
   "metadata": {},
   "outputs": [],
   "source": [
    "#Import Flask dependency\n",
    "from flask import Flask"
   ]
  },
  {
   "cell_type": "code",
   "execution_count": 29,
   "id": "8ed5df30",
   "metadata": {},
   "outputs": [],
   "source": [
    "#Variables with underscores before and after them are called magic methods in Python\n",
    "app = Flask(__name__)"
   ]
  },
  {
   "cell_type": "code",
   "execution_count": 30,
   "id": "c5fa9544",
   "metadata": {},
   "outputs": [],
   "source": [
    "#The foward slash denotates tht we we want to put our data at the root of our routes\n",
    "@app.route('/')\n",
    "def hello_world():\n",
    "    return 'Hello world'"
   ]
  },
  {
   "cell_type": "code",
   "execution_count": null,
   "id": "4d947fbd",
   "metadata": {},
   "outputs": [],
   "source": []
  }
 ],
 "metadata": {
  "kernelspec": {
   "display_name": "Python 3 (ipykernel)",
   "language": "python",
   "name": "python3"
  },
  "language_info": {
   "codemirror_mode": {
    "name": "ipython",
    "version": 3
   },
   "file_extension": ".py",
   "mimetype": "text/x-python",
   "name": "python",
   "nbconvert_exporter": "python",
   "pygments_lexer": "ipython3",
   "version": "3.8.11"
  }
 },
 "nbformat": 4,
 "nbformat_minor": 5
}
